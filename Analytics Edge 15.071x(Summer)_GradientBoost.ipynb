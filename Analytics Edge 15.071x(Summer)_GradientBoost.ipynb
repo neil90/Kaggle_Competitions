{
 "cells": [
  {
   "cell_type": "code",
   "execution_count": 300,
   "metadata": {
    "collapsed": true
   },
   "outputs": [],
   "source": [
    "import pandas as pd\n",
    "import matplotlib.pyplot as plt\n",
    "import seaborn as sns\n",
    "import numpy as np\n",
    "from time import time\n",
    "from operator import itemgetter\n",
    "import string\n",
    "import collections\n",
    "from pprint import pprint\n",
    "from __future__ import division\n",
    "\n",
    "%matplotlib inline"
   ]
  },
  {
   "cell_type": "code",
   "execution_count": 301,
   "metadata": {
    "collapsed": true
   },
   "outputs": [],
   "source": [
    "csv_IpadTrain = 'eBayiPadTrain.csv'\n",
    "csv_IpadTest = 'eBayiPadTest.csv'\n",
    "\n",
    "rawTrainNew = pd.read_csv(csv_IpadTrain)\n",
    "rawTestNew = pd.read_csv(csv_IpadTest)"
   ]
  },
  {
   "cell_type": "code",
   "execution_count": 302,
   "metadata": {
    "collapsed": false
   },
   "outputs": [],
   "source": [
    "def learning_curve_plot(model,X,y):\n",
    "    from sklearn.learning_curve import learning_curve\n",
    "\n",
    "    # assume classifier and training data is prepared...\n",
    "\n",
    "    #log = LogisticRegression()\n",
    "\n",
    "    train_sizes, train_scores, test_scores = learning_curve(\n",
    "            model, X, y, cv=10, n_jobs=1, train_sizes=np.linspace(.1, 1., 10), verbose=0)\n",
    "\n",
    "    train_scores_mean = np.mean(train_scores, axis=1)\n",
    "    train_scores_std = np.std(train_scores, axis=1)\n",
    "    test_scores_mean = np.mean(test_scores, axis=1)\n",
    "    test_scores_std = np.std(test_scores, axis=1)\n",
    "\n",
    "    plt.figure()\n",
    "    plt.title(\"RandomForestClassifier\")\n",
    "    plt.legend(loc=\"best\")\n",
    "    plt.xlabel(\"Training examples\")\n",
    "    plt.ylabel(\"Score\")\n",
    "    plt.ylim((0.6, 1.01))\n",
    "    plt.gca().invert_yaxis()\n",
    "    plt.grid()\n",
    "\n",
    "    # Plot the average training and test score lines at each training set size\n",
    "    plt.plot(train_sizes, train_scores_mean, 'o-', color=\"b\", label=\"Training score\")\n",
    "    plt.plot(train_sizes, test_scores_mean, 'o-', color=\"r\", label=\"Test score\")"
   ]
  },
  {
   "cell_type": "markdown",
   "metadata": {},
   "source": [
    "###Bag of Words(Setting it up)"
   ]
  },
  {
   "cell_type": "code",
   "execution_count": 303,
   "metadata": {
    "collapsed": true
   },
   "outputs": [],
   "source": [
    "conditionrep = {'New other (see details)' : 'New',\n",
    "               'For parts or not working' : 'Buy for Parts',\n",
    "               'Seller refurbished' : 'Used'}\n",
    "rawTrainNew['condition'] = rawTrainNew['condition'].replace(conditionrep)\n",
    "rawTestNew['condition'] = rawTestNew['condition'].replace(conditionrep)"
   ]
  },
  {
   "cell_type": "code",
   "execution_count": 304,
   "metadata": {
    "collapsed": true
   },
   "outputs": [],
   "source": [
    "rawTrainNew['description'] = rawTrainNew['description'].fillna('NA')\n",
    "rawTestNew['description'] = rawTestNew['description'].fillna('NA')"
   ]
  },
  {
   "cell_type": "code",
   "execution_count": 305,
   "metadata": {
    "collapsed": true
   },
   "outputs": [],
   "source": [
    "rawTrainNew['productline'] = rawTrainNew['productline'].replace({'iPad 5' : 'iPad Air'})"
   ]
  },
  {
   "cell_type": "code",
   "execution_count": 306,
   "metadata": {
    "collapsed": false
   },
   "outputs": [],
   "source": [
    "rawTrainNew['description'] = rawTrainNew['description'] +' ' + rawTrainNew['condition'] +' '+rawTrainNew['carrier']+ ' ' +rawTrainNew['color'] + ' ' +rawTrainNew['storage'] + ' ' + rawTrainNew['productline']\n",
    "rawTestNew['description'] = rawTestNew['description'] +' ' + rawTestNew['condition'] +' '+rawTestNew['carrier']+ ' ' +rawTestNew['color'] + ' ' +rawTestNew['storage'] + ' ' + rawTestNew['productline']"
   ]
  },
  {
   "cell_type": "code",
   "execution_count": 307,
   "metadata": {
    "collapsed": false
   },
   "outputs": [
    {
     "data": {
      "text/plain": [
       "'NA Used None White 16 iPad 4'"
      ]
     },
     "execution_count": 307,
     "metadata": {},
     "output_type": "execute_result"
    }
   ],
   "source": [
    "rawTrainNew.iloc[2][0]"
   ]
  },
  {
   "cell_type": "code",
   "execution_count": 308,
   "metadata": {
    "collapsed": true
   },
   "outputs": [],
   "source": [
    "corpus = rawTrainNew['description'].append(rawTestNew['description'])\n"
   ]
  },
  {
   "cell_type": "code",
   "execution_count": 309,
   "metadata": {
    "collapsed": true
   },
   "outputs": [],
   "source": [
    "from nltk import word_tokenize\n",
    "from nltk.stem import PorterStemmer\n",
    "from nltk.corpus import stopwords\n",
    "#from sklearn.cluster import KMeans\n",
    "from sklearn.feature_extraction.text import TfidfVectorizer\n"
   ]
  },
  {
   "cell_type": "code",
   "execution_count": 310,
   "metadata": {
    "collapsed": true
   },
   "outputs": [],
   "source": [
    "def process_text(text_utf, stem=True):\n",
    "    \"\"\" Tokenize text and stem words removing punctuation \"\"\"\n",
    "    import re\n",
    "    remove_punct_map = dict.fromkeys(map(ord, string.punctuation))\n",
    "    #s.translate(remove_punct_map)\n",
    "    #text_utf = text.encode('utf8')\n",
    "    #text_utf = re.sub(r'[^\\x00-\\x7f]',r' ',text_utf)\n",
    "    text_utf = text_utf.translate(remove_punct_map)\n",
    "    tokens = word_tokenize(text_utf)\n",
    " \n",
    "    if stem:\n",
    "        stemmer = PorterStemmer()\n",
    "        tokens = [stemmer.stem(t) for t in tokens]\n",
    " \n",
    "    return tokens"
   ]
  },
  {
   "cell_type": "code",
   "execution_count": 311,
   "metadata": {
    "collapsed": false
   },
   "outputs": [],
   "source": [
    "vectorizer = TfidfVectorizer(tokenizer=process_text,\n",
    "                             stop_words=stopwords.words('english'),\n",
    "                             max_df=0.5,\n",
    "                             min_df=0.1,\n",
    "                             lowercase=True,\n",
    "                            decode_error = 'ignore')\n",
    "\n",
    "tfidf_model = vectorizer.fit_transform(corpus)\n",
    "#km_model = KMeans(n_clusters=5)\n",
    "#km_model.fit_predict(tfidf_model)\n",
    "\n",
    "#clustering = collections.defaultdict(list)\n",
    "\n",
    "#for idx, label in enumerate(km_model.labels_):\n",
    "#    clustering[label].append(idx)\n"
   ]
  },
  {
   "cell_type": "code",
   "execution_count": 312,
   "metadata": {
    "collapsed": false
   },
   "outputs": [],
   "source": [
    "df_Words = pd.DataFrame(dict(zip(vectorizer.get_feature_names(),tfidf_model.toarray().transpose())))"
   ]
  },
  {
   "cell_type": "markdown",
   "metadata": {},
   "source": [
    "###Combining BoW"
   ]
  },
  {
   "cell_type": "code",
   "execution_count": 313,
   "metadata": {
    "collapsed": true
   },
   "outputs": [],
   "source": [
    "rawTrainNew = pd.concat([rawTrainNew,df_Words.head(len(rawTrainNew)).reset_index(drop = True)], axis = 1)\n",
    "rawTestNew = pd.concat([rawTestNew,df_Words.tail(len(rawTestNew)).reset_index(drop = True)], axis = 1)"
   ]
  },
  {
   "cell_type": "markdown",
   "metadata": {},
   "source": [
    "###Create Features"
   ]
  },
  {
   "cell_type": "code",
   "execution_count": 314,
   "metadata": {
    "collapsed": true
   },
   "outputs": [],
   "source": [
    "rawTrainNew = rawTrainNew.fillna(0) \n",
    "rawTestNew = rawTestNew.fillna(0)"
   ]
  },
  {
   "cell_type": "code",
   "execution_count": 315,
   "metadata": {
    "collapsed": false
   },
   "outputs": [
    {
     "data": {
      "text/plain": [
       "array(['Used', 'Manufacturer refurbished', 'New', 'Buy for Parts'], dtype=object)"
      ]
     },
     "execution_count": 315,
     "metadata": {},
     "output_type": "execute_result"
    }
   ],
   "source": [
    "rawTestNew['condition'].unique()"
   ]
  },
  {
   "cell_type": "code",
   "execution_count": 316,
   "metadata": {
    "collapsed": true
   },
   "outputs": [],
   "source": [
    "def typeCluster(device):\n",
    "    device = device.lower()\n",
    "    if 'mini' in device:\n",
    "        return 'Mini'\n",
    "    elif 'air' in device:\n",
    "        return 'New Gen'\n",
    "    else:\n",
    "        return 'iPad'"
   ]
  },
  {
   "cell_type": "code",
   "execution_count": 317,
   "metadata": {
    "collapsed": true
   },
   "outputs": [],
   "source": [
    "rawTrainNew['Type'] = rawTrainNew['productline'].map(typeCluster)\n",
    "rawTestNew['Type'] = rawTestNew['productline'].map(typeCluster)"
   ]
  },
  {
   "cell_type": "code",
   "execution_count": 318,
   "metadata": {
    "collapsed": true
   },
   "outputs": [],
   "source": [
    "rawTrainNew['logstartprice'] = rawTrainNew['startprice'].apply(np.log)\n",
    "rawTestNew['logstartprice'] = rawTestNew['startprice'].apply(np.log)"
   ]
  },
  {
   "cell_type": "code",
   "execution_count": 319,
   "metadata": {
    "collapsed": true
   },
   "outputs": [],
   "source": [
    "rawTrainNew['expstartprice'] = rawTrainNew['startprice'].apply(lambda x: x**2)\n",
    "rawTestNew['expstartprice'] = rawTestNew['startprice'].apply(lambda x: x**2)"
   ]
  },
  {
   "cell_type": "code",
   "execution_count": 320,
   "metadata": {
    "collapsed": false
   },
   "outputs": [],
   "source": [
    "rawTrainNew = rawTrainNew.sort('UniqueID').reset_index(drop = True)\n",
    "rawTestNew = rawTestNew.sort('UniqueID').reset_index(drop = True)"
   ]
  },
  {
   "cell_type": "code",
   "execution_count": 322,
   "metadata": {
    "collapsed": false
   },
   "outputs": [
    {
     "data": {
      "text/plain": [
       "1861"
      ]
     },
     "execution_count": 322,
     "metadata": {},
     "output_type": "execute_result"
    }
   ],
   "source": [
    "len(rawTrainNew)"
   ]
  },
  {
   "cell_type": "markdown",
   "metadata": {},
   "source": [
    "####Predict start price(Feature)"
   ]
  },
  {
   "cell_type": "code",
   "execution_count": 323,
   "metadata": {
    "collapsed": false
   },
   "outputs": [],
   "source": [
    "X_predprice = pd.get_dummies(rawTrainNew.drop(['description','UniqueID','sold','startprice'],1))\n",
    "y_predprice = rawTrainNew['startprice']"
   ]
  },
  {
   "cell_type": "code",
   "execution_count": 324,
   "metadata": {
    "collapsed": true
   },
   "outputs": [],
   "source": [
    "from sklearn.linear_model import LinearRegression\n",
    "from sklearn import metrics"
   ]
  },
  {
   "cell_type": "code",
   "execution_count": 325,
   "metadata": {
    "collapsed": false
   },
   "outputs": [
    {
     "data": {
      "text/plain": [
       "LinearRegression(copy_X=True, fit_intercept=True, n_jobs=1, normalize=False)"
      ]
     },
     "execution_count": 325,
     "metadata": {},
     "output_type": "execute_result"
    }
   ],
   "source": [
    "priceModel = LinearRegression()\n",
    "priceModel.fit(X_predprice, y_predprice)"
   ]
  },
  {
   "cell_type": "code",
   "execution_count": 326,
   "metadata": {
    "collapsed": false
   },
   "outputs": [
    {
     "name": "stdout",
     "output_type": "stream",
     "text": [
      "0.962664070464\n"
     ]
    }
   ],
   "source": [
    "print metrics.r2_score(y_predprice,priceModel.predict(X_predprice))"
   ]
  },
  {
   "cell_type": "code",
   "execution_count": 327,
   "metadata": {
    "collapsed": false
   },
   "outputs": [],
   "source": [
    "X_predprice_test = pd.get_dummies(rawTestNew.drop(['description','UniqueID','startprice'],1))"
   ]
  },
  {
   "cell_type": "code",
   "execution_count": 328,
   "metadata": {
    "collapsed": false
   },
   "outputs": [
    {
     "data": {
      "text/plain": [
       "array(['Used', 'Manufacturer refurbished', 'New', 'Buy for Parts'], dtype=object)"
      ]
     },
     "execution_count": 328,
     "metadata": {},
     "output_type": "execute_result"
    }
   ],
   "source": [
    "rawTestNew['condition'].unique()"
   ]
  },
  {
   "cell_type": "code",
   "execution_count": 329,
   "metadata": {
    "collapsed": false
   },
   "outputs": [
    {
     "data": {
      "text/plain": [
       "Index([u'productline_iPad mini Retina'], dtype='object')"
      ]
     },
     "execution_count": 329,
     "metadata": {},
     "output_type": "execute_result"
    }
   ],
   "source": [
    "X_predprice.columns.difference(X_predprice_test.columns)"
   ]
  },
  {
   "cell_type": "code",
   "execution_count": 330,
   "metadata": {
    "collapsed": false
   },
   "outputs": [
    {
     "name": "stdout",
     "output_type": "stream",
     "text": [
      "Adding Missing Column:  productline_iPad mini Retina with value 0\n"
     ]
    }
   ],
   "source": [
    "for i in list(X_predprice.columns.difference(X_predprice_test.columns)):\n",
    "    print 'Adding Missing Column: ',i,'with value 0'\n",
    "    X_predprice_test[i] = 0"
   ]
  },
  {
   "cell_type": "code",
   "execution_count": 331,
   "metadata": {
    "collapsed": false
   },
   "outputs": [],
   "source": [
    "X_predprice_test = X_predprice_test[X_predprice.columns]"
   ]
  },
  {
   "cell_type": "code",
   "execution_count": 332,
   "metadata": {
    "collapsed": false
   },
   "outputs": [
    {
     "name": "stdout",
     "output_type": "stream",
     "text": [
      "0.958624235526\n"
     ]
    }
   ],
   "source": [
    "print metrics.r2_score(rawTest['startprice'],priceModel.predict(X_predprice_test))"
   ]
  },
  {
   "cell_type": "code",
   "execution_count": 333,
   "metadata": {
    "collapsed": true
   },
   "outputs": [],
   "source": [
    "rawTrainNew['PriceDiff'] = rawTrainNew['startprice'] - priceModel.predict(X_predprice)\n",
    "rawTestNew['PriceDiff'] = rawTestNew['startprice'] - priceModel.predict(X_predprice_test)"
   ]
  },
  {
   "cell_type": "code",
   "execution_count": 334,
   "metadata": {
    "collapsed": true
   },
   "outputs": [],
   "source": [
    "X = pd.get_dummies(rawTrainNew.drop(['description','UniqueID','sold'],1))\n",
    "y = rawTrainNew['sold']"
   ]
  },
  {
   "cell_type": "markdown",
   "metadata": {},
   "source": [
    "###Create Train_Test"
   ]
  },
  {
   "cell_type": "code",
   "execution_count": 335,
   "metadata": {
    "collapsed": false
   },
   "outputs": [],
   "source": [
    "from sklearn.cross_validation import train_test_split\n",
    "X_train, X_test, y_train, y_test = train_test_split(X, y, test_size = .33, random_state = 100)\n"
   ]
  },
  {
   "cell_type": "markdown",
   "metadata": {},
   "source": [
    "###Default GradientBoosting"
   ]
  },
  {
   "cell_type": "code",
   "execution_count": 336,
   "metadata": {
    "collapsed": true
   },
   "outputs": [],
   "source": [
    "from sklearn.ensemble import GradientBoostingClassifier\n",
    "clf = GradientBoostingClassifier(n_estimators = 100, learning_rate = .01)"
   ]
  },
  {
   "cell_type": "code",
   "execution_count": 337,
   "metadata": {
    "collapsed": false
   },
   "outputs": [
    {
     "data": {
      "text/plain": [
       "GradientBoostingClassifier(init=None, learning_rate=0.01, loss='deviance',\n",
       "              max_depth=3, max_features=None, max_leaf_nodes=None,\n",
       "              min_samples_leaf=1, min_samples_split=2,\n",
       "              min_weight_fraction_leaf=0.0, n_estimators=100,\n",
       "              random_state=None, subsample=1.0, verbose=0,\n",
       "              warm_start=False)"
      ]
     },
     "execution_count": 337,
     "metadata": {},
     "output_type": "execute_result"
    }
   ],
   "source": [
    "clf.fit(X_train, y_train)"
   ]
  },
  {
   "cell_type": "code",
   "execution_count": 338,
   "metadata": {
    "collapsed": false
   },
   "outputs": [
    {
     "name": "stdout",
     "output_type": "stream",
     "text": [
      "0.882441230361\n"
     ]
    }
   ],
   "source": [
    "from sklearn import metrics\n",
    "predictClf = clf.predict_proba(X_train)[:,1:]\n",
    "print metrics.roc_auc_score(y_train,predictClf)"
   ]
  },
  {
   "cell_type": "code",
   "execution_count": 339,
   "metadata": {
    "collapsed": false
   },
   "outputs": [
    {
     "name": "stdout",
     "output_type": "stream",
     "text": [
      "0.832304025424\n"
     ]
    }
   ],
   "source": [
    "from sklearn import metrics\n",
    "predictClftest = clf.predict_proba(X_test)[:,1:]\n",
    "print metrics.roc_auc_score(y_test,predictClftest)"
   ]
  },
  {
   "cell_type": "code",
   "execution_count": 340,
   "metadata": {
    "collapsed": true
   },
   "outputs": [],
   "source": [
    "X_submit = pd.get_dummies(rawTestNew.drop(['description','UniqueID'],1))"
   ]
  },
  {
   "cell_type": "code",
   "execution_count": 341,
   "metadata": {
    "collapsed": false
   },
   "outputs": [
    {
     "data": {
      "text/plain": [
       "Index([u'productline_iPad mini Retina'], dtype='object')"
      ]
     },
     "execution_count": 341,
     "metadata": {},
     "output_type": "execute_result"
    }
   ],
   "source": [
    "X_train.columns.difference(X_submit.columns)"
   ]
  },
  {
   "cell_type": "code",
   "execution_count": 342,
   "metadata": {
    "collapsed": true
   },
   "outputs": [],
   "source": [
    "for i in list(X_train.columns.difference(X_submit.columns)):\n",
    "    X_submit[i] = 0"
   ]
  },
  {
   "cell_type": "code",
   "execution_count": 343,
   "metadata": {
    "collapsed": true
   },
   "outputs": [],
   "source": [
    "X_submit = X_submit[X_train.columns]"
   ]
  },
  {
   "cell_type": "code",
   "execution_count": 344,
   "metadata": {
    "collapsed": false
   },
   "outputs": [
    {
     "name": "stdout",
     "output_type": "stream",
     "text": [
      "Saving Submission_gb_BoW.csv\n"
     ]
    }
   ],
   "source": [
    "def dftocsv(df,predicts,model='NoName'):\n",
    "    #print model\n",
    "    df = df.loc[:,['UniqueID']]\n",
    "    df['Probability1'] = predicts\n",
    "    print 'Saving Submission_{0}.csv'.format(model)\n",
    "    df.to_csv('Submission_{0}.csv'.format(model), index = False)\n",
    "    \n",
    "predictTestsub = clf.predict_proba(X_submit)[:,1:]\n",
    "\n",
    "dftocsv(rawTestNew,predictTestsub,model = 'gb_BoW')\n"
   ]
  },
  {
   "cell_type": "code",
   "execution_count": 345,
   "metadata": {
    "collapsed": true
   },
   "outputs": [],
   "source": [
    "#Gets 0.85892 on Test"
   ]
  },
  {
   "cell_type": "code",
   "execution_count": 346,
   "metadata": {
    "collapsed": false
   },
   "outputs": [
    {
     "data": {
      "image/png": "[encoded data removed]",
      "text/plain": [
       "<matplotlib.figure.Figure at 0x22b30eb8>"
      ]
     },
     "metadata": {},
     "output_type": "display_data"
    }
   ],
   "source": [
    "learning_curve_plot(clf,X_train,y_train)"
   ]
  },
  {
   "cell_type": "markdown",
   "metadata": {},
   "source": [
    "###GridSearch Gradient Boosting Randomized"
   ]
  },
  {
   "cell_type": "code",
   "execution_count": 347,
   "metadata": {
    "collapsed": true
   },
   "outputs": [],
   "source": [
    "from sklearn.grid_search import RandomizedSearchCV\n",
    "from scipy.stats import randint as sp_randint\n",
    "import random"
   ]
  },
  {
   "cell_type": "code",
   "execution_count": 348,
   "metadata": {
    "collapsed": false
   },
   "outputs": [],
   "source": [
    "def report(grid_scores, n_top=3):\n",
    "    top_scores = sorted(grid_scores, key=itemgetter(1), reverse=True)[:n_top]\n",
    "    for i, score in enumerate(top_scores):\n",
    "        print(\"Model with rank: {0}\".format(i + 1))\n",
    "        print(\"Mean validation score: {0:.3f} (std: {1:.3f})\".format(\n",
    "              score.mean_validation_score,\n",
    "              np.std(score.cv_validation_scores)))\n",
    "        print(\"Parameters: {0}\".format(score.parameters))\n",
    "        print(\"\")\n",
    "\n",
    "\n",
    "# specify parameters and distributions to sample from\n",
    "param_dist = {\n",
    "            \"loss\" : ['deviance','exponential'],\n",
    "            \"learning_rate\" : [.01,.15,.2,.25,.3,.35,.4],\n",
    "            \"n_estimators\" : sp_randint(100,300),\n",
    "            \"max_depth\": [3,5,7, None],\n",
    "            \"max_features\": sp_randint(2, 11),\n",
    "            \"min_samples_split\": sp_randint(2, 11),\n",
    "            \"min_samples_leaf\": sp_randint(2, 11)\n",
    "           # \"bootstrap\": [True, False],\n",
    "            }"
   ]
  },
  {
   "cell_type": "code",
   "execution_count": 354,
   "metadata": {
    "collapsed": false
   },
   "outputs": [
    {
     "name": "stdout",
     "output_type": "stream",
     "text": [
      "RandomizedSearchCV took 91.71 seconds for 100 candidates parameter settings.\n",
      "Model with rank: 1\n",
      "Mean validation score: 0.819 (std: 0.023)\n",
      "Parameters: {'loss': 'deviance', 'learning_rate': 0.01, 'min_samples_leaf': 6, 'n_estimators': 275, 'min_samples_split': 8, 'max_features': 9, 'max_depth': 7}\n",
      "\n",
      "Model with rank: 2\n",
      "Mean validation score: 0.816 (std: 0.014)\n",
      "Parameters: {'loss': 'exponential', 'learning_rate': 0.01, 'min_samples_leaf': 10, 'n_estimators': 234, 'min_samples_split': 5, 'max_features': 10, 'max_depth': 5}\n",
      "\n",
      "Model with rank: 3\n",
      "Mean validation score: 0.815 (std: 0.024)\n",
      "Parameters: {'loss': 'deviance', 'learning_rate': 0.01, 'min_samples_leaf': 10, 'n_estimators': 230, 'min_samples_split': 3, 'max_features': 7, 'max_depth': None}\n",
      "\n"
     ]
    }
   ],
   "source": [
    "start = time()\n",
    "niters = 100\n",
    "gbclf = GradientBoostingClassifier()\n",
    "random_search = RandomizedSearchCV(gbclf, \n",
    "                                   param_distributions=param_dist,\n",
    "                                   n_iter=niters)\n",
    "random_search.fit(X_train, y_train)\n",
    "print(\"RandomizedSearchCV took %.2f seconds for %d candidates\"\n",
    "      \" parameter settings.\" % ((time() - start), niters))\n",
    "report(random_search.grid_scores_)"
   ]
  },
  {
   "cell_type": "code",
   "execution_count": 355,
   "metadata": {
    "collapsed": true
   },
   "outputs": [],
   "source": [
    "gbclf1 = GradientBoostingClassifier(loss = 'deviance', min_samples_leaf = 6, n_estimators = 275, \n",
    "                                    min_samples_split = 6, max_features = 9, max_depth = 7, learning_rate = .01)"
   ]
  },
  {
   "cell_type": "code",
   "execution_count": 356,
   "metadata": {
    "collapsed": false
   },
   "outputs": [
    {
     "data": {
      "text/plain": [
       "GradientBoostingClassifier(init=None, learning_rate=0.01, loss='deviance',\n",
       "              max_depth=7, max_features=9, max_leaf_nodes=None,\n",
       "              min_samples_leaf=6, min_samples_split=6,\n",
       "              min_weight_fraction_leaf=0.0, n_estimators=275,\n",
       "              random_state=None, subsample=1.0, verbose=0,\n",
       "              warm_start=False)"
      ]
     },
     "execution_count": 356,
     "metadata": {},
     "output_type": "execute_result"
    }
   ],
   "source": [
    "gbclf1.fit(X_train, y_train)"
   ]
  },
  {
   "cell_type": "code",
   "execution_count": 357,
   "metadata": {
    "collapsed": false
   },
   "outputs": [
    {
     "name": "stdout",
     "output_type": "stream",
     "text": [
      "0.968622405884\n"
     ]
    }
   ],
   "source": [
    "predictgbClf = gbclf1.predict_proba(X_train)[:,1:]\n",
    "print metrics.roc_auc_score(y_train,predictgbClf)"
   ]
  },
  {
   "cell_type": "code",
   "execution_count": 358,
   "metadata": {
    "collapsed": false
   },
   "outputs": [
    {
     "name": "stdout",
     "output_type": "stream",
     "text": [
      "0.855667372881\n"
     ]
    }
   ],
   "source": [
    "predictgbClftest = gbclf1.predict_proba(X_test)[:,1:]\n",
    "print metrics. roc_auc_score(y_test, predictgbClftest)"
   ]
  },
  {
   "cell_type": "code",
   "execution_count": 359,
   "metadata": {
    "collapsed": false
   },
   "outputs": [
    {
     "name": "stdout",
     "output_type": "stream",
     "text": [
      "Saving Submission_gb_BoW_RandGrid.csv\n"
     ]
    }
   ],
   "source": [
    "predictGb1Testsub = gbclf1.predict_proba(X_submit)[:,1:]\n",
    "\n",
    "dftocsv(rawTestNew,predictGb1Testsub,model = 'gb_BoW_RandGrid')"
   ]
  },
  {
   "cell_type": "code",
   "execution_count": 360,
   "metadata": {
    "collapsed": true
   },
   "outputs": [],
   "source": [
    "#Scores 0.86308 on Test, Shoulda used this"
   ]
  },
  {
   "cell_type": "code",
   "execution_count": 361,
   "metadata": {
    "collapsed": false
   },
   "outputs": [
    {
     "data": {
      "image/png": "[encoded data removed]",
      "text/plain": [
       "<matplotlib.figure.Figure at 0x2190c710>"
      ]
     },
     "metadata": {},
     "output_type": "display_data"
    }
   ],
   "source": [
    "learning_curve_plot(gbclf1,X_train,y_train)"
   ]
  },
  {
   "cell_type": "markdown",
   "metadata": {
    "collapsed": true
   },
   "source": [
    "####To further improve model, need to do Clustering on BoW\n",
    "####Reduce Features in model, then reapply glm/RF/CART/GradientBoosting \n",
    "####to each of the clusters and merge together based on the best model for each cluster"
   ]
  }
 ],
 "metadata": {
  "kernelspec": {
   "display_name": "Python 2",
   "language": "python",
   "name": "python2"
  },
  "language_info": {
   "codemirror_mode": {
    "name": "ipython",
    "version": 2
   },
   "file_extension": ".py",
   "mimetype": "text/x-python",
   "name": "python",
   "nbconvert_exporter": "python",
   "pygments_lexer": "ipython2",
   "version": "2.7.10"
  }
 },
 "nbformat": 4,
 "nbformat_minor": 0
}
